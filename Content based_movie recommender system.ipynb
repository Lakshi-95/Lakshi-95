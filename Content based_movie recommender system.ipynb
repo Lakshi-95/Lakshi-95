{
 "cells": [
  {
   "cell_type": "markdown",
   "metadata": {},
   "source": [
    "Group 3:<br>\n",
    "-Lakshi Tyagi<br>\n",
    "-Parth Shrivastava<br> \n",
    "-Rahul Singh<br>\n",
    "-Franco Sanchez Torres"
   ]
  },
  {
   "cell_type": "code",
   "execution_count": 1,
   "metadata": {},
   "outputs": [],
   "source": [
    "#Importing Libraries\n",
    "import numpy as np\n",
    "from matplotlib import pyplot as plt\n",
    "import matplotlib as mpl\n",
    "import random\n",
    "import math\n",
    "%matplotlib inline"
   ]
  },
  {
   "cell_type": "code",
   "execution_count": 2,
   "metadata": {},
   "outputs": [],
   "source": [
    "# 1. Expectation-Maximization (EM)\n",
    "# Generating surrogate data for 3 coins\n",
    "# Number of experiments\n",
    "experiments = 5 # The smaller this number to worst the performance/estimate\n",
    "\n",
    "# Number of coin tosses for each trial\n",
    "coin_tosses = 25 # The smaller this number to worst the performance/estimate\n",
    "\n",
    "# Experiment ground truth properties: Prob to choose coin A or B or C for the trial\n",
    "pA = 0.33\n",
    "pB = 0.33\n",
    "pC = 1-pA - pB\n",
    "\n",
    "# Coin ground truth properties: Prob for heads and tails for each coin\n",
    "p_heads_A = 0.7\n",
    "p_heads_B = 0.5\n",
    "p_heads_C = 0.4\n",
    "\n",
    "# Empty array where all tosses are stored\n",
    "rolls= []\n",
    "\n",
    "A_heads = 0\n",
    "B_heads = 0\n",
    "C_heads = 0\n",
    "A_tails = 0\n",
    "B_tails = 0\n",
    "C_tails = 0"
   ]
  },
  {
   "cell_type": "code",
   "execution_count": 3,
   "metadata": {},
   "outputs": [],
   "source": [
    "#Code for randomly selecting a coin & Heads or Tails\n",
    "for i in range(0,experiments):\n",
    "    trial = \"\"\n",
    "    A=0\n",
    "    B=0\n",
    "    # Choose coin: p fixed for single trial\n",
    "    if ( random.uniform(0, 1) < pA ): \n",
    "        p = p_heads_A\n",
    "        A=1\n",
    "        B=0\n",
    "    elif ( random.uniform(0, 1) < pB ):\n",
    "        p = p_heads_B\n",
    "        A=0\n",
    "        B=1\n",
    "    else: \n",
    "        p = p_heads_C\n",
    "        A=0\n",
    "        B=0\n",
    "        \n",
    "    for j in range(0,coin_tosses):\n",
    "        # generate outcome\n",
    "        outcome = random.uniform(0, 1)\n",
    "        if (outcome < p): \n",
    "            trial += \"H\"\n",
    "            if (A==1): \n",
    "                A_heads += 1\n",
    "            elif (B==1):\n",
    "                B_heads += 1\n",
    "            else:\n",
    "                C_heads += 1\n",
    "                \n",
    "        else: \n",
    "            trial += \"T\"\n",
    "            if (A==1): \n",
    "                A_tails += 1\n",
    "            elif (B==1):\n",
    "                B_tails += 1\n",
    "            else:\n",
    "                C_tails +=1\n",
    "                \n",
    "    rolls.append( trial ) \n"
   ]
  },
  {
   "cell_type": "code",
   "execution_count": 4,
   "metadata": {},
   "outputs": [
    {
     "name": "stdout",
     "output_type": "stream",
     "text": [
      "['TTHTTTHHHHTHHHTHTTTTTTHHH', 'TTTTTTHHTHTHHTHHTHHHTHTTH', 'THTTTHTHHHHTTTTTHTHTTTTTT', 'HTTHHTTHHTHTTHTHTHHTTHHHH', 'HTHTHHHTHTHHHHHHHHTTHHHHT']\n"
     ]
    }
   ],
   "source": [
    "#print entire outcome of experiment; all coin tosses     \n",
    "print(rolls)"
   ]
  },
  {
   "cell_type": "code",
   "execution_count": 5,
   "metadata": {},
   "outputs": [],
   "source": [
    "# EM algorithm for 3 random coins\n",
    "def coin_em(rolls, theta_A=None, theta_B=None, theta_C=None, max_iter=50): #add =50\n",
    "    \n",
    "    # Initial Guess\n",
    "    theta_A = theta_A or random.random() #take value or random between 0 and 1\n",
    "    theta_B = theta_B or random.random()\n",
    "    theta_C = theta_C or random.random()\n",
    "    \n",
    "    # theta vector\n",
    "    thetas = [(theta_A, theta_B, theta_C)]\n",
    "    \n",
    "    # Iterate\n",
    "    for i in range(max_iter):\n",
    "        print(\"#%d:\\t%0.4f %0.4f  %0.4f\" % (i, theta_A, theta_B, theta_C)) #significant digits \n",
    "        #print(round(variable, 3))\n",
    "        heads_A, tails_A, heads_B, tails_B, heads_C, tails_C = e_step( rolls, theta_A, theta_B, theta_C )\n",
    "        theta_A, theta_B, theta_C = m_step( heads_A, tails_A, heads_B, tails_B, heads_C, tails_C )\n",
    "        thetas.append((theta_A,theta_B,theta_C))\n",
    "    \n",
    "    return thetas, (theta_A,theta_B,theta_C) #thetas are conveniently needed for a unnecessary plot at the end"
   ]
  },
  {
   "cell_type": "code",
   "execution_count": 6,
   "metadata": {},
   "outputs": [],
   "source": [
    "# Compute expected value for Heads and Tails for all 3 coins over rolls given coin biases\n",
    "def e_step( rolls, theta_A, theta_B,theta_C ):\n",
    "    \n",
    "    heads_A, tails_A = 0,0\n",
    "    heads_B, tails_B = 0,0\n",
    "    heads_C, tails_C = 0,0\n",
    "    \n",
    "    for trial in rolls:\n",
    "        likelihood_A = coin_likelihood( trial, theta_A )\n",
    "        likelihood_B = coin_likelihood( trial, theta_B )\n",
    "        likelihood_C = coin_likelihood( trial, theta_C )\n",
    "        p_A = likelihood_A / ( likelihood_A + likelihood_B + likelihood_C)\n",
    "        p_B = likelihood_B / ( likelihood_A + likelihood_B + likelihood_C )\n",
    "        p_C = likelihood_C / ( likelihood_A + likelihood_B + likelihood_C )\n",
    "        heads_A += p_A * trial.count(\"H\")\n",
    "        tails_A += p_A * trial.count(\"T\")\n",
    "        heads_B += p_B * trial.count(\"H\")\n",
    "        tails_B += p_B * trial.count(\"T\") \n",
    "        heads_C += p_C * trial.count(\"H\")\n",
    "        tails_C += p_C * trial.count(\"T\") \n",
    "        \n",
    "    return heads_A, tails_A, heads_B, tails_B, heads_C, tails_C"
   ]
  },
  {
   "cell_type": "code",
   "execution_count": 7,
   "metadata": {},
   "outputs": [],
   "source": [
    "# M step: Compute values for theta that maximize the likelihood of expected number of heads/tails\n",
    "def m_step(heads_A, tails_A, heads_B, tails_B, heads_C, tails_C):\n",
    "    \n",
    "    theta_A = np.divide( heads_A, heads_A + tails_A ) #np.divide avoids divby0s\n",
    "    theta_B = np.divide( heads_B, heads_B + tails_B )\n",
    "    theta_C = np.divide( heads_C, heads_C + tails_C )\n",
    "    \n",
    "    return theta_A, theta_B, theta_C"
   ]
  },
  {
   "cell_type": "code",
   "execution_count": 8,
   "metadata": {},
   "outputs": [],
   "source": [
    "# p(X | Z, theta)\n",
    "def coin_likelihood(roll, bias):\n",
    "    numHeads = roll.count(\"H\")\n",
    "    flips = len(roll)\n",
    "    return pow(bias, numHeads) * pow(1-bias, flips-numHeads)"
   ]
  },
  {
   "cell_type": "code",
   "execution_count": 9,
   "metadata": {
    "scrolled": true
   },
   "outputs": [
    {
     "name": "stdout",
     "output_type": "stream",
     "text": [
      "#0:\t0.8000 0.4000  0.5000\n",
      "#1:\t0.7155 0.4242  0.5036\n",
      "#2:\t0.6851 0.4296  0.4936\n",
      "#3:\t0.6676 0.4318  0.4853\n",
      "#4:\t0.6571 0.4335  0.4794\n",
      "#5:\t0.6510 0.4352  0.4751\n",
      "#6:\t0.6475 0.4368  0.4719\n",
      "#7:\t0.6455 0.4383  0.4695\n",
      "#8:\t0.6445 0.4397  0.4675\n",
      "#9:\t0.6440 0.4410  0.4658\n",
      "#10:\t0.6437 0.4422  0.4644\n",
      "#11:\t0.6437 0.4433  0.4631\n",
      "#12:\t0.6436 0.4443  0.4620\n",
      "#13:\t0.6437 0.4451  0.4611\n",
      "#14:\t0.6437 0.4459  0.4602\n",
      "Chosen ground truth (which is sample-independent!): \n",
      "0.700000 0.500000 0.400000\n",
      "MLE estimates from data (finite sample size estimates are the theoretical optimum!):\n",
      "0.720000 0.560000 0.426667\n",
      "0.72 0.56 0.427\n"
     ]
    }
   ],
   "source": [
    "# Call EM\n",
    "thetas , _  = coin_em( rolls, 0.8, 0.4, 0.5, max_iter=15 )\n",
    "\n",
    "print(\"Chosen ground truth (which is sample-independent!): \")\n",
    "print(\"%0.6f %0.6f %0.6f\" % (p_heads_A, p_heads_B, p_heads_C))\n",
    "print(\"MLE estimates from data (finite sample size estimates are the theoretical optimum!):\")\n",
    "\n",
    "MLE_pA, MLE_pB, MLE_pC = m_step( A_heads, A_tails, B_heads, B_tails, C_heads, C_tails )\n",
    "print(\"%0.6f %0.6f %0.6f\" % (MLE_pA, MLE_pB, MLE_pC))\n",
    "print(round(MLE_pA,3), round(MLE_pB,3), round(MLE_pC,3))"
   ]
  },
  {
   "cell_type": "code",
   "execution_count": 10,
   "metadata": {},
   "outputs": [],
   "source": [
    "# plot EM convergence\n",
    "def plot_coin_likelihood(rolls, thetas=None):\n",
    "    # grid\n",
    "    xvals = np.linspace(0.01,0.99,100)\n",
    "    yvals = np.linspace(0.01,0.99,100)\n",
    "    zvals = np.linspace(0.01,0.99,100)\n",
    "    X,Y,D = np.meshgrid(xvals, yvals, zvals)\n",
    "    \n",
    "    # compute likelihood\n",
    "    Z = []\n",
    "    for i,r in enumerate(X):\n",
    "        z = []\n",
    "        for j,c in enumerate(r):\n",
    "            # Trying to calculate the marginal likelihood of X given thetas\n",
    "            z.append(coin_marginal_likelihood(rolls,c,Y[i][j],D[i][j]))\n",
    "        Z.append(z)  \n",
    "    # plot\n",
    "    plt.figure(figsize=(10,8))\n",
    "    ax = plt.axes(projection='3d')\n",
    "    # ax.contour3D(X, Y, Z, 50, cmap='binary')\n",
    "    # cbar = plt.colorbar(C)\n",
    "    plt.title(r\"Likelihood $\\log p(\\mathcal{X}|\\theta_A,\\theta_B,\\theta_C)$\", fontsize=20)\n",
    "    ax.set_xlabel(r\"$\\theta_A$\", fontsize=20)\n",
    "    ax.set_ylabel(r\"$\\theta_B$\", fontsize=20)\n",
    "    ax.set_zlabel(r\"$\\theta_C$\", fontsize=20)\n",
    "    \n",
    "    \n",
    "    # plot thetas   \n",
    "    if thetas is not None:\n",
    "        # Data for three-dimensional scattered points & llines\n",
    "        # Points\n",
    "        thetas = np.array(thetas)    \n",
    "        xdata = thetas[:,0]\n",
    "        ydata = thetas[:,1]\n",
    "        zdata = thetas[:,2]\n",
    "        ax.scatter3D(xdata, ydata, zdata, c='blue');\n",
    "        # Line\n",
    "        ax.plot3D(xdata, ydata, zdata, 'blue')\n",
    "        # Change view angle\n",
    "        # Default values: elev=30, azim=- 60\n",
    "        ax.view_init(elev=30,azim=-60)\n",
    "    \n",
    "# log P(X | theta), only used for plot\n",
    "def coin_marginal_likelihood( rolls, biasA, biasB, biasC):\n",
    "    trials = []\n",
    "    for roll in rolls:\n",
    "        h = roll.count(\"H\")\n",
    "        t = roll.count(\"T\")\n",
    "        likelihoodA = coin_likelihood(roll, biasA)\n",
    "        likelihoodB = coin_likelihood(roll, biasB)\n",
    "        likelihoodC = coin_likelihood(roll, biasC)\n",
    "        trials.append(np.log(0.5 * (likelihoodA + likelihoodB + likelihoodC))) \n",
    "    return sum(trials)"
   ]
  },
  {
   "cell_type": "code",
   "execution_count": 11,
   "metadata": {},
   "outputs": [
    {
     "name": "stdout",
     "output_type": "stream",
     "text": [
      "How EM got there...\n"
     ]
    },
    {
     "data": {
      "image/png": "[encoded data removed]",
      "text/plain": [
       "<Figure size 720x576 with 1 Axes>"
      ]
     },
     "metadata": {
      "needs_background": "light"
     },
     "output_type": "display_data"
    }
   ],
   "source": [
    "print(\"How EM got there...\")\n",
    "plot_coin_likelihood(rolls, thetas)"
   ]
  },
  {
   "cell_type": "markdown",
   "metadata": {},
   "source": [
    "Take home: Even when we do not have many iterations of the EM algorithm, it works quite well. As we can see in the 3D plot, within a few iterations we get a good estimate of our parameters. It starts to converge to its local optimal value."
   ]
  },
  {
   "cell_type": "markdown",
   "metadata": {},
   "source": [
    "# 2 Unlucky Optimization Competition "
   ]
  },
  {
   "cell_type": "code",
   "execution_count": 12,
   "metadata": {},
   "outputs": [],
   "source": [
    "#EM algorithm\n",
    "def coin_em(rolls, theta_A=None, theta_B=None, max_iter=50): #add =50\n",
    "    \n",
    "    # Initial Guess\n",
    "    theta_A = theta_A or random.random() #take value or start wild between 0 and 1\n",
    "    theta_B = theta_B or random.random()\n",
    "    \n",
    "    # theta vector\n",
    "    thetas = [(theta_A, theta_B)]\n",
    "    \n",
    "    # Iterate\n",
    "    for i in range(max_iter):\n",
    "        #print(\"#%d:\\t%0.4f %0.4f\" % (i, theta_A, theta_B)) #significant digits \n",
    "        #print(round(variable, 3))\n",
    "        heads_A, tails_A, heads_B, tails_B = e_step( rolls, theta_A, theta_B )\n",
    "        theta_A, theta_B = m_step( heads_A, tails_A, heads_B, tails_B )\n",
    "        thetas.append((theta_A,theta_B))\n",
    "    \n",
    "    return thetas, (theta_A,theta_B) #thetas are conveniently needed for a unnecessary plot at the end\n",
    "\n",
    "# Compute expected value for heads_A, tails_A, heads_B, tails_B over rolls given coin biases\n",
    "def e_step( rolls, theta_A, theta_B ):\n",
    "    \n",
    "    heads_A, tails_A = 0,0\n",
    "    heads_B, tails_B = 0,0\n",
    "    \n",
    "    for trial in rolls:\n",
    "        likelihood_A = coin_likelihood( trial, theta_A )\n",
    "        likelihood_B = coin_likelihood( trial, theta_B )\n",
    "        p_A = likelihood_A / ( likelihood_A + likelihood_B )\n",
    "        p_B = likelihood_B / ( likelihood_A + likelihood_B )\n",
    "        heads_A += p_A * trial.count(\"H\")\n",
    "        tails_A += p_A * trial.count(\"T\")\n",
    "        heads_B += p_B * trial.count(\"H\")\n",
    "        tails_B += p_B * trial.count(\"T\") \n",
    "        \n",
    "    return heads_A, tails_A, heads_B, tails_B\n",
    "\n",
    "# M step: Compute values for theta that maximize the likelihood of expected number of heads/tails\n",
    "def m_step(heads_A, tails_A, heads_B, tails_B):\n",
    "    \n",
    "    theta_A = np.divide( heads_A, heads_A + tails_A ) #np.divide avoids divby0s\n",
    "    theta_B = np.divide( heads_B, heads_B + tails_B )\n",
    "    \n",
    "    return theta_A, theta_B\n",
    "\n",
    "# p(X | Z, theta)\n",
    "def coin_likelihood(roll, bias):\n",
    "    numHeads = roll.count(\"H\")\n",
    "    flips = len(roll)\n",
    "    return pow(bias, numHeads) * pow(1-bias, flips-numHeads)"
   ]
  },
  {
   "cell_type": "code",
   "execution_count": 13,
   "metadata": {},
   "outputs": [],
   "source": [
    "#Dictionary to store repetition data \n",
    "seed = {}\n",
    "seed['rolls'] = []\n",
    "seed['MLEA'] = []\n",
    "seed['MLEB'] = []\n",
    "seed['Score'] = []"
   ]
  },
  {
   "cell_type": "code",
   "execution_count": 14,
   "metadata": {},
   "outputs": [
    {
     "name": "stderr",
     "output_type": "stream",
     "text": [
      "<ipython-input-12-58049aff38c4>:42: RuntimeWarning: invalid value encountered in true_divide\n",
      "  theta_A = np.divide( heads_A, heads_A + tails_A ) #np.divide avoids divby0s\n",
      "<ipython-input-12-58049aff38c4>:43: RuntimeWarning: invalid value encountered in true_divide\n",
      "  theta_B = np.divide( heads_B, heads_B + tails_B )\n",
      "<ipython-input-14-2b9ae8038059>:56: RuntimeWarning: divide by zero encountered in log\n",
      "  score = min(abs(np.log(MLE_pA/p_heads_A)),abs(np.log(MLE_pB/p_heads_B)))\n"
     ]
    }
   ],
   "source": [
    "#Loop performing 125 coin tosses a hundred thousand times\n",
    "for i in range(100000):\n",
    "    experiments = 5 \n",
    "    coin_tosses = 25 \n",
    "    pA = 0.5\n",
    "    pB = 1-pA\n",
    "# Coin ground truth properties: Prob for heads and tails\n",
    "    p_heads_A = 0.9\n",
    "    p_heads_B = 0.1\n",
    "\n",
    "# empty array where all tosses are stored\n",
    "    rolls= []\n",
    "\n",
    "    A_heads = 0\n",
    "    B_heads = 0\n",
    "    A_tails = 0\n",
    "    B_tails = 0\n",
    "\n",
    "    for i in range(0,experiments):\n",
    "        trial = \"\"\n",
    "        A=0\n",
    "    # Choose coin: p fixed for single trial\n",
    "        if ( random.uniform(0, 1) < pA ): \n",
    "            p = p_heads_A\n",
    "            A=1\n",
    "        else:\n",
    "            p = p_heads_B\n",
    "            A=0\n",
    "        \n",
    "        for j in range(0,coin_tosses):\n",
    "        # generate outcome\n",
    "            outcome = random.uniform(0, 1)\n",
    "            if (outcome < p): \n",
    "                trial += \"H\"\n",
    "                if (A==1): \n",
    "                    A_heads += 1\n",
    "                else:\n",
    "                    B_heads += 1\n",
    "            else: \n",
    "                trial += \"T\"\n",
    "                if (A==1): \n",
    "                    A_tails += 1\n",
    "                else:\n",
    "                    B_tails += 1\n",
    "        rolls.append( trial ) \n",
    "        \n",
    "        \n",
    "\n",
    "# Call EM\n",
    "    thetas , _  = coin_em( rolls, 0.9, 0.1, max_iter=15 )\n",
    "\n",
    "    MLE_pA, MLE_pB = m_step( A_heads, A_tails, B_heads, B_tails )\n",
    "    #print(\"%0.6f %0.6f\" % (MLE_pA, MLE_pB))\n",
    "    #print(round(MLE_pA,3), round(MLE_pB,3))\n",
    "    \n",
    "    score = min(abs(np.log(MLE_pA/p_heads_A)),abs(np.log(MLE_pB/p_heads_B)))\n",
    "\n",
    "    seed[\"rolls\"].append(rolls)\n",
    "    seed['MLEA'].append(MLE_pA)\n",
    "    seed['MLEB'].append(MLE_pB)\n",
    "    seed['Score'].append(score)"
   ]
  },
  {
   "cell_type": "code",
   "execution_count": 15,
   "metadata": {},
   "outputs": [
    {
     "name": "stdout",
     "output_type": "stream",
     "text": [
      "Highest Score Value \n",
      "0.40546510810816444\n",
      "\n",
      "\n",
      "MLE Estimates\n",
      "0.600000 0.050000\n",
      "\n",
      "\n",
      "Coin Tosses\n",
      "['TTTTTTTTTTTTTTTTTTTTTTTTT', 'TTTTTTTTTTTTTTTTHTHTTTTHT', 'TTTTTTTTTTTTTTTTTTTTTTTTT', 'HHHTHHHTHTHTHTTHHTHTHHHTT', 'TTTTTTTTTTTTTTHTTTTTTTTTH']\n"
     ]
    }
   ],
   "source": [
    "#Finding and printing best Score value conditions\n",
    "Max_Score_Index = seed['Score'].index(max(seed.get('Score')))\n",
    "\n",
    "\n",
    "print(\"Highest Score Value \")\n",
    "print(seed['Score'][Max_Score_Index])\n",
    "print(\"\\n\" )\n",
    "print(\"MLE Estimates\")\n",
    "print(\"%0.6f %0.6f\" % (seed['MLEA'][Max_Score_Index],seed['MLEB'][Max_Score_Index]))\n",
    "print(\"\\n\" )\n",
    "print(\"Coin Tosses\")\n",
    "print(seed['rolls'][Max_Score_Index]) "
   ]
  },
  {
   "cell_type": "markdown",
   "metadata": {},
   "source": [
    "Our initial probabilities were 0.9 and 0.1. However, after many iterations it got revised to 0.6 and 0.05 respectively."
   ]
  }
 ],
 "metadata": {
  "kernelspec": {
   "display_name": "Python 3",
   "language": "python",
   "name": "python3"
  },
  "language_info": {
   "codemirror_mode": {
    "name": "ipython",
    "version": 3
   },
   "file_extension": ".py",
   "mimetype": "text/x-python",
   "name": "python",
   "nbconvert_exporter": "python",
   "pygments_lexer": "ipython3",
   "version": "3.8.8"
  }
 },
 "nbformat": 4,
 "nbformat_minor": 2
}
